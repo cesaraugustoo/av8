{
 "cells": [
  {
   "cell_type": "markdown",
   "metadata": {},
   "source": [
    "## Exercício 1"
   ]
  },
  {
   "cell_type": "markdown",
   "metadata": {},
   "source": [
    "Usando o método QR, se possível*\n",
    "\n",
    "Apropriadamente numere os átomos de sua molécula e nos conte o contexto de obtenção dessa molécula ou onde está mais presente. Usando o método de Huckel (apenas para os orbitias pz), construa o determinante secular, calcule os níveis de energia, faça o diagrama de níveis, faça o preenchimento eletrônico destes níveis, calcule e escreva todos os orbitais moleculares. \n",
    "Calcule para cada ligação (apresente sobre a ligação) as ordens de ligações e as populações eletrônicas. Faz sentido para ti? Analise seus dados sob a luz da química?\n",
    "Esboce os orbitais moleculares HOMO e LUMO. \n",
    "Sua molécula é o Oxepino"
   ]
  },
  {
   "cell_type": "markdown",
   "metadata": {},
   "source": [
    "$ \\ce{} $"
   ]
  },
  {
   "cell_type": "markdown",
   "metadata": {},
   "source": [
    "*(caso não seja adequado, use alguma biblioteca e compare com os resultados do QR)"
   ]
  },
  {
   "cell_type": "code",
   "execution_count": null,
   "metadata": {},
   "outputs": [],
   "source": []
  }
 ],
 "metadata": {
  "kernelspec": {
   "display_name": "base",
   "language": "python",
   "name": "python3"
  },
  "language_info": {
   "name": "python",
   "version": "3.12.7"
  }
 },
 "nbformat": 4,
 "nbformat_minor": 2
}
